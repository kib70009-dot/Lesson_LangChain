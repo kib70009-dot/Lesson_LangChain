{
 "cells": [
  {
   "cell_type": "markdown",
   "id": "9a409292",
   "metadata": {},
   "source": [
    "## 🚀 歡迎來到 LangChain 課程！\n",
    "\n",
    "這個 Jupyter Notebook (`lesson1_2.ipynb`) 是我們 LangChain 課程的第一部分。Jupyter Notebook 是一個互動式的開發環境，非常適合學習、展示程式碼和數據分析。你可以在這裡一步步執行程式碼，並立即看到結果。\n",
    "\n",
    "### 💡 什麼是 Jupyter Notebook？\n",
    "\n",
    "Jupyter Notebook 讓你可以將程式碼 (Code)、文字 (Markdown)、圖片和數據結果整合在一個文件中。它由一個個「儲存格 (Cell)」組成，每個儲存格可以獨立執行。\n",
    "\n",
    "*   **Code Cell**: 撰寫並執行程式碼的地方。\n",
    "*   **Markdown Cell**: 撰寫說明文字、標題、列表等內容，讓筆記更具可讀性。\n",
    "\n",
    "現在，讓我們從最基本的 Python 語法開始！\n"
   ]
  },
  {
   "cell_type": "code",
   "execution_count": null,
   "id": "022d9a7a",
   "metadata": {},
   "outputs": [
    {
     "name": "stdout",
     "output_type": "stream",
     "text": [
      "Hello, World!\n"
     ]
    }
   ],
   "source": [
    "print(\"Hello, World!\")"
   ]
  }
 ],
 "metadata": {
  "kernelspec": {
   "display_name": "langchain",
   "language": "python",
   "name": "python3"
  },
  "language_info": {
   "codemirror_mode": {
    "name": "ipython",
    "version": 3
   },
   "file_extension": ".py",
   "mimetype": "text/x-python",
   "name": "python",
   "nbconvert_exporter": "python",
   "pygments_lexer": "ipython3",
   "version": "3.11.13"
  }
 },
 "nbformat": 4,
 "nbformat_minor": 5
}
