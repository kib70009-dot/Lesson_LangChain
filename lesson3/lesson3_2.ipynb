{
 "cells": [
  {
   "cell_type": "markdown",
   "id": "57a99948",
   "metadata": {},
   "source": [
    "### ollama呼叫方法\n",
    "curl http://localhost:11434/api/generate -d '{\n",
    "  \"model\": \"llama3.2\",\n",
    "  \"prompt\":\"Why is the sky blue?\"\n",
    "}'"
   ]
  },
  {
   "cell_type": "code",
   "execution_count": null,
   "id": "733df27f",
   "metadata": {},
   "outputs": [],
   "source": [
    "import requests\n",
    "\n",
    "# 將您的 curl 命令轉換成 requests\n",
    "url = \"http://localhost:11434/api/generate\"\n",
    "\n",
    "# 準備請求的資料 (JSON 格式)\n",
    "data = {\n",
    "    \"model\": \"llama3.2\",\n",
    "    \"prompt\": \"Why is the sky blue?\"\n",
    "}\n",
    "\n",
    "# 發送 POST 請求 (因為 curl 使用了 -d 參數)\n",
    "response = requests.post(url, json=data)\n",
    "\n",
    "# 檢查回應狀態\n",
    "print(f\"狀態碼: {response.status_code}\")\n",
    "\n",
    "# 取得回應內容\n",
    "if response.status_code == 200:\n",
    "    result = response.json()\n",
    "    print(\"回應內容:\")\n",
    "    print(result)\n",
    "else:\n",
    "    print(f\"請求失敗: {response.text}\")"
   ]
  },
  {
   "cell_type": "code",
   "execution_count": null,
   "id": "a4980d87",
   "metadata": {},
   "outputs": [],
   "source": [
    "# 另一種寫法：使用 data 參數而不是 json 參數\n",
    "import requests\n",
    "import json\n",
    "\n",
    "url = \"http://localhost:11434/api/generate\"\n",
    "\n",
    "# 方法1：使用 json 參數 (推薦)\n",
    "data = {\n",
    "    \"model\": \"llama3.2\",\n",
    "    \"prompt\": \"Why is the sky blue?\"\n",
    "}\n",
    "\n",
    "try:\n",
    "    response = requests.post(url, json=data)\n",
    "    response.raise_for_status()  # 如果狀態碼不是 2xx，會拋出異常\n",
    "    result = response.json()\n",
    "    print(\"成功取得回應:\")\n",
    "    print(result)\n",
    "except requests.exceptions.RequestException as e:\n",
    "    print(f\"請求發生錯誤: {e}\")\n",
    "except json.JSONDecodeError as e:\n",
    "    print(f\"JSON 解析錯誤: {e}\")\n",
    "    print(f\"原始回應: {response.text}\")"
   ]
  },
  {
   "cell_type": "code",
   "execution_count": null,
   "id": "b2b989fb",
   "metadata": {},
   "outputs": [],
   "source": [
    "# 方法2：使用 data 參數 (需要手動轉換 JSON 字串)\n",
    "import requests\n",
    "import json\n",
    "\n",
    "url = \"http://localhost:11434/api/generate\"\n",
    "\n",
    "data = {\n",
    "    \"model\": \"llama3.2\",\n",
    "    \"prompt\": \"Why is the sky blue?\"\n",
    "}\n",
    "\n",
    "# 手動將字典轉換為 JSON 字串\n",
    "json_data = json.dumps(data)\n",
    "\n",
    "# 設定 Content-Type header\n",
    "headers = {\n",
    "    \"Content-Type\": \"application/json\"\n",
    "}\n",
    "\n",
    "response = requests.post(url, data=json_data, headers=headers)\n",
    "\n",
    "print(f\"狀態碼: {response.status_code}\")\n",
    "if response.status_code == 200:\n",
    "    result = response.json()\n",
    "    print(\"回應內容:\")\n",
    "    print(result)\n",
    "else:\n",
    "    print(f\"請求失敗: {response.text}\")"
   ]
  },
  {
   "cell_type": "markdown",
   "id": "adb0c56d",
   "metadata": {},
   "source": [
    "📝 curl 轉換成 requests 的說明\n",
    "🔄 轉換要點：\n",
    "HTTP 方法：curl -d 表示發送 POST 請求，所以使用 requests.post()\n",
    "\n",
    "URL：直接使用相同的 URL\n",
    "\n",
    "資料格式：\n",
    "\n",
    "curl -d 後面的 JSON 資料變成 Python 字典\n",
    "使用 json=data 參數自動處理 Content-Type 和 JSON 編碼\n",
    "🎯 兩種主要方法：\n",
    "方法1（推薦）：使用 json 參數\n",
    "\n",
    "response = requests.post(url, json=data)\n",
    "方法2：使用 data 參數 + 手動 JSON 編碼\n",
    "\n",
    "response = requests.post(url, data=json.dumps(data), headers={'Content-Type': 'application/json'})\n",
    "⚠️ 注意事項："
   ]
  }
 ],
 "metadata": {
  "kernelspec": {
   "display_name": "langchain",
   "language": "python",
   "name": "python3"
  },
  "language_info": {
   "name": "python",
   "version": "3.11.13"
  }
 },
 "nbformat": 4,
 "nbformat_minor": 5
}
