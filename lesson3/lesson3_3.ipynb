{
 "cells": [
  {
   "cell_type": "markdown",
   "id": "579f1323",
   "metadata": {},
   "source": [
    "📝 curl 轉換成 requests 的說明\n",
    "🔄 轉換要點：\n",
    "HTTP 方法：curl -d 表示發送 POST 請求，所以使用 requests.post()\n",
    "\n",
    "URL：直接使用相同的 URL\n",
    "\n",
    "資料格式：\n",
    "\n",
    "curl -d 後面的 JSON 資料變成 Python 字典\n",
    "使用 json=data 參數自動處理 Content-Type 和 JSON 編碼\n",
    "🎯 兩種主要方法：\n",
    "方法1（推薦）：使用 json 參數\n",
    "\n",
    "response = requests.post(url, json=data)\n",
    "方法2：使用 data 參數 + 手動 JSON 編碼\n",
    "\n",
    "response = requests.post(url, data=json.dumps(data), headers={'Content-Type': 'application/json'})\n",
    "⚠️ 注意事項："
   ]
  },
  {
   "cell_type": "code",
   "execution_count": null,
   "id": "8b3a4e30",
   "metadata": {
    "vscode": {
     "languageId": "plaintext"
    }
   },
   "outputs": [],
   "source": [
    "import requests\n",
    "\n",
    "def chat_with_ollama(prompt: str):\n",
    "    url = \"http://localhost:11434/api/generate\"\n",
    "    payload = {\n",
    "        \"model\": \"gpt-oss:20b\",\n",
    "        \"prompt\": prompt,\n",
    "        \"stream\": False,\n",
    "        \"options\": { #參考說明1\n",
    "            \"temperature\": 0.7,\n",
    "            \"top_p\": 0.9,\n",
    "            \"top_k\": 50,\n",
    "        }\n",
    "        \n",
    "    }\n",
    "\n",
    "    response = requests.post(url, json=payload)\n",
    "    result = response.json()\n",
    "    print(\"💬 AI 回應：\")\n",
    "    # Print the whole result for debugging\n",
    "    print(result)\n",
    "    # Try to print the 'response' key if it exists, otherwise print possible keys\n",
    "    if \"response\" in result:\n",
    "        print(result[\"response\"])\n",
    "    elif \"message\" in result:\n",
    "        print(result[\"message\"])\n",
    "    elif \"content\" in result:\n",
    "        print(result[\"content\"])\n",
    "    else:\n",
    "        print(\"No expected key found in response. Available keys:\", result.keys())\n",
    "\n",
    "#範例輸入\n",
    "chat_with_ollama(\"請用簡單的方式解釋什麼是Python的函式？\")"
   ]
  }
 ],
 "metadata": {
  "language_info": {
   "name": "python"
  }
 },
 "nbformat": 4,
 "nbformat_minor": 5
}
