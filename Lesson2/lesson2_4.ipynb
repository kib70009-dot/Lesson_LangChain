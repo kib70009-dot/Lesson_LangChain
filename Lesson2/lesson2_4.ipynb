{
 "cells": [
  {
   "cell_type": "code",
   "execution_count": 5,
   "id": "f09c9e86",
   "metadata": {},
   "outputs": [
    {
     "name": "stdout",
     "output_type": "stream",
     "text": [
      "   *   \n",
      "  ***  \n",
      " ***** \n",
      "*******\n",
      "   |   \n"
     ]
    }
   ],
   "source": [
    "#自訂一個function,必需列印出聖誕樹,不使用迴圈,只要使用純print,要有樹葉和樹幹\n",
    "#todo:實作function 列印聖誕樹  \n",
    "\n",
    "def print_christmas_tree():\n",
    "    print(\"   *   \")\n",
    "    print(\"  ***  \")\n",
    "    print(\" ***** \")\n",
    "    print(\"*******\")\n",
    "    print(\"   |   \")\n",
    "\n",
    "# 呼叫函式，列印聖誕樹\n",
    "print_christmas_tree()\n",
    "\n"
   ]
  },
  {
   "cell_type": "code",
   "execution_count": 6,
   "id": "66e80688",
   "metadata": {},
   "outputs": [
    {
     "name": "stdout",
     "output_type": "stream",
     "text": [
      "178\n",
      "80\n"
     ]
    }
   ],
   "source": [
    "#tuple的拆解法\n",
    "height, weight= 178,80\n",
    "print(height)\n",
    "print(weight)#自訂一個function,"
   ]
  },
  {
   "cell_type": "code",
   "execution_count": 7,
   "id": "bf9c9c1c",
   "metadata": {},
   "outputs": [
    {
     "name": "stdout",
     "output_type": "stream",
     "text": [
      "半徑為 5 的圓：\n",
      "面積 = 78.54\n",
      "周長 = 31.42\n"
     ]
    }
   ],
   "source": [
    "#自訂一個function,會計算圓面積和圓周長\n",
    "#todo:實作function 計算圓面積和圓周長  \n",
    "import math\n",
    "\n",
    "def circle_area_circumference(radius):\n",
    "    area = math.pi * radius ** 2\n",
    "    circumference = 2 * math.pi * radius\n",
    "    print(f\"半徑為 {radius} 的圓：\")\n",
    "    print(f\"面積 = {area:.2f}\")\n",
    "    print(f\"周長 = {circumference:.2f}\")\n",
    "\n",
    "# 範例呼叫\n",
    "circle_area_circumference(5)"
   ]
  },
  {
   "cell_type": "code",
   "execution_count": 8,
   "id": "586cda9d",
   "metadata": {},
   "outputs": [
    {
     "name": "stdout",
     "output_type": "stream",
     "text": [
      "圓面積 = 3462.79\n",
      "圓周長 = 208.60\n"
     ]
    }
   ],
   "source": [
    "#自訂一個function,會計算圓面積和圓周長\n",
    "#todo:實作function 計算圓面積和圓周長\n",
    "import math\n",
    "\n",
    "def calculate_circle(radius):\n",
    "    # 計算圓面積\n",
    "    area = math.pi * radius ** 2\n",
    "    # 計算圓周長\n",
    "    circumference = 2 * math.pi * radius\n",
    "    return area, circumference\n",
    "\n",
    "# 呼叫函式，計算圓面積和圓周長\n",
    "radius = float(input(\"請輸入圓的半徑: \"))\n",
    "area, circumference = calculate_circle(radius)\n",
    "print(f\"圓面積 = {area:.2f}\")\n",
    "print(f\"圓周長 = {circumference:.2f}\")"
   ]
  }
 ],
 "metadata": {
  "kernelspec": {
   "display_name": "langchain",
   "language": "python",
   "name": "python3"
  },
  "language_info": {
   "codemirror_mode": {
    "name": "ipython",
    "version": 3
   },
   "file_extension": ".py",
   "mimetype": "text/x-python",
   "name": "python",
   "nbconvert_exporter": "python",
   "pygments_lexer": "ipython3",
   "version": "3.11.13"
  }
 },
 "nbformat": 4,
 "nbformat_minor": 5
}
