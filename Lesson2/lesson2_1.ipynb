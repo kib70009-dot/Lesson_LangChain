{
 "cells": [
  {
   "cell_type": "markdown",
   "id": "24820d03",
   "metadata": {},
   "source": [
    "# Python 變數與基本數學運算\n",
    "\n",
    "這個筆記本將帶你學習 Python 中最基礎但重要的概念：**變數 (Variables)** 以及 **基本數學運算 (Basic Math Operations)**。理解這些是學習任何程式語言的基石。\n",
    "\n",
    "## 💡 變數 (Variables)\n",
    "\n",
    "變數就像一個容器，你可以用來儲存不同類型的資料，例如數字、文字或布林值 (True/False)。給變數一個有意義的名稱，然後將值賦予它。\n",
    "\n",
    "### 變數宣告與資料類型\n",
    "\n",
    "Python 是一種動態型別語言，這表示你不需要在宣告變數時指定其資料類型。Python 會根據你賦予的值自動判斷。常見的資料類型包括：\n",
    "\n",
    "*   **整數 (int)**: 例如 10, -5, 100\n",
    "*   **浮點數 (float)**: 例如 3.14, 0.5, -2.0\n",
    "*   **字串 (str)**: 例如 \"Hello\", 'Python'\n",
    "*   **布林值 (bool)**: `True` 或 `False`\n",
    "\n",
    "```python\n",
    "# 基本語法：變數名稱 = 值\n",
    "name = \"小明\"      # 字串 (str)\n",
    "age = 18          # 整數 (int)\n",
    "height = 175.5    # 浮點數 (float)\n",
    "is_student = True # 布林值 (bool)\n",
    "```\n"
   ]
  },
  {
   "cell_type": "markdown",
   "id": "6ef3fe98",
   "metadata": {},
   "source": [
    "### 範例：查看變數的值與類型\n",
    "\n",
    "你可以使用 `print()` 函數來輸出變數中儲存的值，並使用 `type()` 函數來檢查變數的資料類型。這對於理解資料如何被處理非常重要。\n"
   ]
  },
  {
   "cell_type": "code",
   "execution_count": null,
   "id": "2d3f3d91",
   "metadata": {},
   "outputs": [],
   "source": [
    "name = \"小明\"\n",
    "print(name)\n",
    "print(type(name)) # 呼叫 function\n",
    "print('================')\n",
    "\n",
    "age = 18\n",
    "print(age)\n",
    "print(type(age))\n",
    "print('=================')\n",
    "\n",
    "height = 175.5\n",
    "print(height)\n",
    "print(type(height))\n",
    "print('===============')\n",
    "\n",
    "is_student = True\n",
    "print(is_student)\n",
    "print(type(is_student))\n"
   ]
  },
  {
   "cell_type": "markdown",
   "id": "3e95781c",
   "metadata": {},
   "source": [
    "### 格式化輸出：`sep`, `end` 與 f-string\n",
    "\n",
    "當你需要更精確地控制 `print()` 函數的輸出格式時，可以使用 `sep` (分隔符號)、`end` (結尾字元) 參數，或者更現代且推薦的 **f-string** (格式化字串字面值)。\n",
    "\n",
    "*   **`sep`**: 指定多個參數之間的分隔符號，預設為一個空格。\n",
    "*   **`end`**: 指定輸出結束時的字元，預設為換行符 `\\n`。\n",
    "*   **f-string**: 提供一種更簡潔、可讀性更高的方式來嵌入變數和表達式到字串中，以 `f` 或 `F` 開頭的字串。\n"
   ]
  },
  {
   "cell_type": "code",
   "execution_count": 1,
   "id": "93ac9510",
   "metadata": {},
   "outputs": [
    {
     "name": "stdout",
     "output_type": "stream",
     "text": [
      "小明\n",
      "<class 'str'>\n",
      "================\n",
      "18\n",
      "<class 'int'>\n",
      "=================\n",
      "175.5\n",
      "<class 'float'>\n",
      "===============\n",
      "True\n",
      "<class 'bool'>\n"
     ]
    }
   ],
   "source": [
    "name = \"小明\"\n",
    "print(name)\n",
    "print(type(name)) #呼叫function\n",
    "print('================')\n",
    "\n",
    "age = 18\n",
    "print(age)\n",
    "print(type(age))\n",
    "print('=================')\n",
    "\n",
    "height = 175.5\n",
    "print(height)\n",
    "print(type(height))\n",
    "print('===============')\n",
    "\n",
    "is_student = True\n",
    "print(is_student)\n",
    "print(type(is_student))"
   ]
  },
  {
   "cell_type": "code",
   "execution_count": 2,
   "id": "465fa264",
   "metadata": {},
   "outputs": [
    {
     "name": "stdout",
     "output_type": "stream",
     "text": [
      "name變數儲存的值是小明,資料類型是:<class 'str'>.\n",
      "age變數儲存的值是18,資料類型是:<class 'int'>.\n"
     ]
    }
   ],
   "source": [
    "print(\"name變數儲存的值是\",name,\",資料類型是:\",type(name),sep='',end='.\\n')\n",
    "print(\"age變數儲存的值是\",age,\",資料類型是:\",type(age),sep='',end='.\\n')"
   ]
  },
  {
   "cell_type": "code",
   "execution_count": 3,
   "id": "1cfab7d1",
   "metadata": {},
   "outputs": [
    {
     "name": "stdout",
     "output_type": "stream",
     "text": [
      "name變數儲存的值是小明,資料類型是:<class 'str'>\n",
      "age變數儲存的值是18,資料類型是:<class 'int'>\n"
     ]
    }
   ],
   "source": [
    "print(f\"name變數儲存的值是{name},資料類型是:{type(name)}\")\n",
    "print(f\"age變數儲存的值是{age},資料類型是:{type(age)}\")"
   ]
  },
  {
   "cell_type": "code",
   "execution_count": 4,
   "id": "d8c65592",
   "metadata": {},
   "outputs": [
    {
     "name": "stdout",
     "output_type": "stream",
     "text": [
      "加法 a + b = 10\n",
      "減法 a - b = 4\n",
      "乘法 a * b = 21\n",
      "除法 a / b = 2.33\n",
      "取餘數 a % b = 1\n",
      "次方 a ** b = 343\n"
     ]
    }
   ],
   "source": [
    "# 數學運算範例\n",
    "a = 7\n",
    "b = 3\n",
    "\n",
    "addition = a + b\n",
    "subtraction = a - b\n",
    "multiplication = a * b\n",
    "division = a / b\n",
    "modulus = a % b\n",
    "exponent = a ** b\n",
    "\n",
    "print(f\"加法 a + b = {addition}\")\n",
    "print(f\"減法 a - b = {subtraction}\")\n",
    "print(f\"乘法 a * b = {multiplication}\")\n",
    "print(f\"除法 a / b = {division:.2f}\")\n",
    "print(f\"取餘數 a % b = {modulus}\")\n",
    "print(f\"次方 a ** b = {exponent}\")"
   ]
  },
  {
   "cell_type": "code",
   "execution_count": 5,
   "id": "a92b13db",
   "metadata": {},
   "outputs": [
    {
     "name": "stdout",
     "output_type": "stream",
     "text": [
      "斜邊長度 = 5.00\n"
     ]
    }
   ],
   "source": [
    "# 有一個直角三角形，已知兩邊長，求第三邊長\n",
    "# 已知兩邊長，求第三邊長\n",
    "\n",
    "import math\n",
    "\n",
    "adjacent_side = 3  # 鄰邊長度\n",
    "opposite_side = 4  # 對邊長度\n",
    "\n",
    "# 使用畢氏定理計算斜邊長度\n",
    "hypotenuse_length = math.sqrt(adjacent_side**2 + opposite_side**2)\n",
    "\n",
    "print(f\"斜邊長度 = {hypotenuse_length:.2f}\")"
   ]
  },
  {
   "cell_type": "code",
   "execution_count": 6,
   "id": "240daff1",
   "metadata": {},
   "outputs": [
    {
     "name": "stdout",
     "output_type": "stream",
     "text": [
      "斜邊長度 = 6.40\n"
     ]
    }
   ],
   "source": [
    "import math\n",
    "\n",
    "adjacent_side = 5\n",
    "opposite_side = 4\n",
    "\n",
    "hypotenuse_length = math.sqrt(adjacent_side ** 2 + opposite_side ** 2)\n",
    "print(f\"斜邊長度 = {hypotenuse_length:.2f}\")"
   ]
  }
 ],
 "metadata": {
  "kernelspec": {
   "display_name": "langchain",
   "language": "python",
   "name": "python3"
  },
  "language_info": {
   "codemirror_mode": {
    "name": "ipython",
    "version": 3
   },
   "file_extension": ".py",
   "mimetype": "text/x-python",
   "name": "python",
   "nbconvert_exporter": "python",
   "pygments_lexer": "ipython3",
   "version": "3.11.13"
  }
 },
 "nbformat": 4,
 "nbformat_minor": 5
}
