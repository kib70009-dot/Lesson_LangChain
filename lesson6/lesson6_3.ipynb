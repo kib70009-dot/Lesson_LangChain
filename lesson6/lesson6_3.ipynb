{
 "cells": [
  {
   "cell_type": "code",
   "execution_count": 1,
   "id": "2e5bdf6d",
   "metadata": {},
   "outputs": [],
   "source": [
    "from langchain.prompts import ChatPromptTemplate\n",
    "from langchain_ollama.llms import OllamaLLM\n",
    "from langchain.schema.output_parser import StrOutputParser\n",
    "from langchain.schema.runnable import RunnableLambda\n",
    "import datetime\n",
    "from dotenv import load_dotenv\n",
    "\n",
    "model = OllamaLLM(model=\"gemma3:1b\")\n"
   ]
  },
  {
   "cell_type": "code",
   "execution_count": 2,
   "id": "207aa086",
   "metadata": {},
   "outputs": [],
   "source": [
    "prompt_template = ChatPromptTemplate.from_messages([\n",
    "    (\"system\",\"你是一個專業的客服代表，負責回覆客戶郵件。請用友善、專業的語調回覆。請不要回覆(公司的資訊和結尾詞)，我會自己手動增加請不要回覆公司的資訊，我會自己手動增加\"),\n",
    "    (\"human\", \"請回覆這封客戶郵件：\\n\\n{email_content}\")\n",
    "])"
   ]
  },
  {
   "cell_type": "code",
   "execution_count": 3,
   "id": "c4e6ea04",
   "metadata": {},
   "outputs": [],
   "source": [
    "def format_email_reply(ai_answer:str) -> str:\n",
    "    formatted_reply = f\"\"\"{ai_answer}\n",
    "\n",
    "感謝您的來信，如有其他問題請隨時聯繫我們。\n",
    "\n",
    "此致\n",
    "客服團隊\n",
    "\n",
    "回復時間:{datetime.datetime.now().strftime(\"%Y-%m-%d %H:%M\")}\"\"\"\n",
    "\n",
    "    return {\"formatted_reply\":formatted_reply}\n",
    "    \n",
    "format_email = RunnableLambda(format_email_reply)"
   ]
  },
  {
   "cell_type": "code",
   "execution_count": 4,
   "id": "ddad44b2",
   "metadata": {},
   "outputs": [],
   "source": [
    "chain = (prompt_template | model | StrOutputParser() | format_email)"
   ]
  },
  {
   "cell_type": "code",
   "execution_count": 5,
   "id": "7654bcc2",
   "metadata": {},
   "outputs": [],
   "source": [
    "customer_email = \"\"\"您好:\n",
    "\n",
    "我最近購買了貴公司的產品，但是發現包裝有損壞，而且產品功能與說明書不符。\n",
    "請問可以退貨或換貨嗎？我已經購買一週了。\n",
    "\n",
    "期待您的回覆。\n",
    "\n",
    "王小明\n",
    "\"\"\""
   ]
  },
  {
   "cell_type": "code",
   "execution_count": 6,
   "id": "37da063e",
   "metadata": {},
   "outputs": [
    {
     "name": "stdout",
     "output_type": "stream",
     "text": [
      "{'formatted_reply': '您好，王小明您好！非常抱歉讓您遇到這樣的狀況。我們深感遺憾，聽到您產品包裝損壞且功能與說明不符，確實讓您感到困擾。\\n\\n針對您的問題，我們非常樂意為您處理。由於您已經購買一週了，您可以透過以下方式進行退貨或換貨：\\n\\n*   您可以聯繫我們的客服專線 [客服電話號碼]，我們將協助您處理退貨或換貨。\\n*   如果您更喜歡，也可以直接向我們提出您的退貨申請，我們將盡力協助您。\\n\\n請您放心，我們會盡力協助您解決問題，讓您獲得滿意的解決方案。\\n\\n期待您的回覆，我們希望能盡可能地為您解決這個問題。\\n\\n感謝您的來信，如有其他問題請隨時聯繫我們。\\n\\n此致\\n客服團隊\\n\\n回復時間:2025-10-18 15:16'}\n"
     ]
    }
   ],
   "source": [
    "result = chain.invoke({\"email_content\": customer_email})\n",
    "print(result)"
   ]
  },
  {
   "cell_type": "markdown",
   "id": "67fd6934",
   "metadata": {},
   "source": []
  }
 ],
 "metadata": {
  "kernelspec": {
   "display_name": ".venv",
   "language": "python",
   "name": "python3"
  },
  "language_info": {
   "codemirror_mode": {
    "name": "ipython",
    "version": 3
   },
   "file_extension": ".py",
   "mimetype": "text/x-python",
   "name": "python",
   "nbconvert_exporter": "python",
   "pygments_lexer": "ipython3",
   "version": "3.10.18"
  }
 },
 "nbformat": 4,
 "nbformat_minor": 5
}
