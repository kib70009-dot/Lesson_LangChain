{
 "cells": [
  {
   "cell_type": "code",
   "execution_count": 10,
   "id": "5d8dca8b",
   "metadata": {},
   "outputs": [
    {
     "name": "stdout",
     "output_type": "stream",
     "text": [
      "好的，我來為你介紹 Python。Python 是一個非常流行且用途廣泛的程式語言，非常適合初學者和有經驗的開發者。以下是關於 Python 的一個簡要介紹，涵蓋了它的核心特性、優點和應用：\n",
      "\n",
      "**1. Python 簡介**\n",
      "\n",
      "* **什麼是 Python？** Python 是一種開放原始的程式語言，以其易讀性和靈活性而聞名。它被設計成易於學習和使用，因此廣泛應用於資料科學、網頁開發、自動化程式、機器學習、科學計算等等。\n",
      "* **起源與開發者:** Python 於 1991 年由史蒂夫·沃茲堡 (Steve Wozniak) 和 Fred Miller 開發，最初旨在開發一個易於使用的程式語言，用於處理資料處理，並後來擴展到跨平台程式開發。\n",
      "* **核心特性：**\n",
      "    * **可讀性:** Python 使用以空格為區隔符號的程式碼格式 (Pythonic Style)，所以程式碼易於閱讀和理解。\n",
      "    * **動態類型:** Python 是一種動態類型語言，這意味著你不需要在程式中明確指定變量的類型。\n",
      "    * **類型註釋:** 你可以使用類型註釋 (例如 `X = 10`) 來指定變量的類型。\n",
      "    * **簡潔的構建:** Python 使用 *賦值* 構建，這使得程式碼更容易理解，而且使用更少的語句。\n",
      "    * **動態類型:**  Python 上的變數可以具有不同類型，因此程式碼可以根據需要改變類型。\n",
      "    * **實作性:** Python 具有強大的特性，例如，它可以很容易地透過函數和類別來建立程式碼。\n",
      "\n",
      "**2. Python 的優點**\n",
      "\n",
      "* **易於學習:** Python 的語法設計簡單，因此對於初學者來說學習起來非常容易。\n",
      "* **廣泛的用途:** Python 可以在許多領域使用，包括：\n",
      "    * **資料科學與機器學習:**  Python 是資料科學和機器學習的熱門語言，擁有大量的機器學習庫，例如 NumPy、Pandas、Scikit-learn 和 TensorFlow/PyTorch。\n",
      "    * **網頁開發:**  Python 可以使用框架如 Django 和 Flask 創建網頁。\n",
      "    * **自動化程式:**  Python 可以使用 Scripter 或 AutoHotkey 快速自動化程式。\n",
      "    * **網頁開發:**  可以使用 Python 創建與 HTML 共同工作，也可用於用 Python 動態生成 Web 內容。\n",
      "    * **科學計算:** Python 適合科學研究和計算，因為它具有大量的數學庫和函式庫。\n",
      "    * **教育:** 由於其易於學習，Python 是許多學校課程的標配程式語言。\n",
      "* **大型生態系統:** Python 擁有龐大且活躍的社群，並且有大量的庫和函式庫。\n",
      "* **跨平台性:** Python 可以在多個平台上運行，包括 Windows、macOS、Linux、Android 和 iOS。\n",
      "\n",
      "**3. Python 學習資源**\n",
      "\n",
      "* **Python 官方網站:** [https://www.python.org/](https://www.python.org/) - 提供官方的 Python 資訊，包含學習資料、語言規格和範例程式碼。\n",
      "* **Codecademy:** [https://www.codecademy.com/learn/learn-python-3](https://www.codecademy.com/learn/learn-python-3) - 提供交互式的 Python 課程，適合初學者。\n",
      "* **Coursera & edX:** [https://www.coursera.org/learn/python](https://www.coursera.org/learn/python) -  提供 Python 課程，涵蓋了從入門到進階主題。\n",
      "* **Google Python Class:** [https://developers.google.com/edu/python/](https://developers.google.com/edu/python/) - 提供免費的 Python 課程。\n",
      "* **Python 教程:** [https://www.w3schools.com/python/](https://www.w3schools.com/python/) - 具有互動式的教程，提供各種 Python 範例。\n",
      "* **Python 練習:** [https://practice.python.org/](https://practice.python.org/) - 提供大量的 Python 練習題，讓你練習程式碼。\n",
      "\n",
      "**4. 如何開始學習 Python**\n",
      "\n",
      "* **選擇一個入門版本:** 推薦使用 Python 3。\n",
      "* **掌握基礎概念:** 學習程式碼格式 (例如，空格標題)，變數，函式，輸入和輸出。\n",
      "* **構建你自己的程式:** 從簡單的程式開始，例如，計算一個數，或輸出文字。\n",
      "* **參與線上社群:** 加入 Python 討論區、 Stack Overflow 或 GitHub 相關社群，尋求幫助和學習。\n",
      "\n",
      "**總結：**\n",
      "\n",
      "Python 是一個強大的、多功能的程式語言，對各種領域都有應用。 它的易讀性、廣泛的用途和龐大的社群使其成為學習和使用程式語言的理想選擇。  我希望這個介紹對你有所幫助！ 如果你想了解更多關於 Python 的內容，或者對某些方面有更深入的問題，請隨時提出。\n",
      "\n"
     ]
    }
   ],
   "source": [
    "from langchain.prompts import ChatPromptTemplate\n",
    "from langchain_ollama.llms import OllamaLLM\n",
    "from langchain.schema.output_parser import StrOutputParser\n",
    "\n",
    "prompt = ChatPromptTemplate.from_template(\"請介紹{topic}\")\n",
    "model = OllamaLLM(model=\"gemma3:1b\")\n",
    "output_parser = StrOutputParser()\n",
    "\n",
    "#使用LCEL語法建立鏈\n",
    "chain = prompt | model | output_parser\n",
    "\n",
    "print(chain.invoke({\"topic\": \"python\"}))\n",
    "\n"
   ]
  },
  {
   "cell_type": "code",
   "execution_count": 1,
   "id": "3fe3783c",
   "metadata": {},
   "outputs": [],
   "source": [
    "def upgrade_leval1(name:str) -> str:\n",
    "    result = f\"\"\"{name}\n",
    "等級1\"\"\"\n",
    "    return result\n",
    "\n",
    "def upgrade_leval2(input_str:str) -> str:\n",
    "    result = f\"\"\"{input_str}\n",
    "等級2\"\"\"\n",
    "    return result\n",
    "\n",
    "def upgrade_leval3(input_str:str) -> str:\n",
    "    result = f\"\"\"{input_str}\n",
    "等級3\"\"\"\n",
    "    return result"
   ]
  },
  {
   "cell_type": "code",
   "execution_count": 2,
   "id": "dc699371",
   "metadata": {},
   "outputs": [
    {
     "name": "stdout",
     "output_type": "stream",
     "text": [
      "小明\n",
      "等級1\n",
      "等級2\n",
      "等級3\n"
     ]
    }
   ],
   "source": [
    "total = upgrade_leval3(upgrade_leval2(upgrade_leval1(\"小明\"))) \n",
    "print(total)"
   ]
  },
  {
   "cell_type": "code",
   "execution_count": 3,
   "id": "9bc477a9",
   "metadata": {},
   "outputs": [
    {
     "name": "stdout",
     "output_type": "stream",
     "text": [
      "小明\n",
      "等級1\n",
      "等級2\n",
      "等級3\n"
     ]
    }
   ],
   "source": [
    "from langchain.schema.runnable import RunnableLambda\n",
    "\n",
    "chain = (RunnableLambda(upgrade_leval1)\n",
    "            |  RunnableLambda(upgrade_leval2)\n",
    "            |  RunnableLambda(upgrade_leval3)\n",
    "        )\n",
    "result = chain.invoke(\"小明\")\n",
    "print(result)"
   ]
  }
 ],
 "metadata": {
  "kernelspec": {
   "display_name": ".venv",
   "language": "python",
   "name": "python3"
  },
  "language_info": {
   "codemirror_mode": {
    "name": "ipython",
    "version": 3
   },
   "file_extension": ".py",
   "mimetype": "text/x-python",
   "name": "python",
   "nbconvert_exporter": "python",
   "pygments_lexer": "ipython3",
   "version": "3.10.18"
  }
 },
 "nbformat": 4,
 "nbformat_minor": 5
}
