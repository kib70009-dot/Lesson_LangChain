{
 "cells": [
  {
   "cell_type": "code",
   "execution_count": 9,
   "id": "1c2248c7",
   "metadata": {},
   "outputs": [],
   "source": [
    "from langchain.prompts import ChatPromptTemplate\n",
    "from langchain_ollama import OllamaLLM\n",
    "from langchain.schema.output_parser import StrOutputParser\n",
    "\n"
   ]
  },
  {
   "cell_type": "code",
   "execution_count": 13,
   "id": "da94f10c",
   "metadata": {},
   "outputs": [],
   "source": [
    "model = OllamaLLM(\n",
    "    model=\"gemma3:1b\",\n",
    "    temperature=0.7,\n",
    "    top_p=0.9\n",
    "    )\n"
   ]
  },
  {
   "cell_type": "code",
   "execution_count": 15,
   "id": "de05935d",
   "metadata": {},
   "outputs": [],
   "source": [
    "prompt = ChatPromptTemplate.from_template(\n",
    "    \"\"\"你是一位專業的{role}，請用{style}的風格來介紹{topic}。\n",
    "\n",
    "要求：\n",
    "1. 內容要準確且易懂\n",
    "2. 長度控制在200字以內\n",
    "3. 使用繁體中文回答\n",
    "\n",
    "請開始介紹：\"\"\"\n",
    ")"
   ]
  },
  {
   "cell_type": "code",
   "execution_count": 18,
   "id": "c3e47c32",
   "metadata": {},
   "outputs": [
    {
     "name": "stdout",
     "output_type": "stream",
     "text": [
      "好的，以下是關於深度學習的簡潔介紹：\n",
      "\n",
      "深度學習是機器學習的一個分支，它利用人工神經網路模仿人腦的結構和功能，讓機器能夠學習複雜的模式和知識。\n",
      "\n",
      "**核心概念：**\n",
      "\n",
      "*   **多層神經網路：** 深度學習模型由多層神經網路組成，每一層處理輸入數據，並產生輸出。\n",
      "*   **自動學習：** 相較傳統機器學習，深度學習模型可以通過大量數據自動學習，不需要人工設計的規則。\n",
      "*   **演算法：** 深度學習使用各種演算法，例如反向傳播算法，來學習數據中的模式。\n",
      "\n",
      "**應用：**\n",
      "\n",
      "深度學習被廣泛應用於圖像識別、語音識別、自然語言處理、語音識別等領域，並在自動駕駛、推薦系統等應用中扮演重要角色。\n",
      "\n",
      "總之，深度學習是近年來取得巨大進展的技術，具有廣泛應用前景。\n",
      "\n",
      "希望這個簡要介紹對您有所幫助！\n"
     ]
    }
   ],
   "source": [
    "chain = (prompt | model | StrOutputParser())\n",
    "result = chain.invoke(\n",
    "    {\n",
    "        \"role\":\"AI 專家\",\n",
    "        \"style\":\"簡潔明暸\",\n",
    "        \"topic\":\"深度學習\"\n",
    "    }\n",
    ")\n",
    "print(result)"
   ]
  }
 ],
 "metadata": {
  "kernelspec": {
   "display_name": ".venv",
   "language": "python",
   "name": "python3"
  },
  "language_info": {
   "codemirror_mode": {
    "name": "ipython",
    "version": 3
   },
   "file_extension": ".py",
   "mimetype": "text/x-python",
   "name": "python",
   "nbconvert_exporter": "python",
   "pygments_lexer": "ipython3",
   "version": "3.10.18"
  }
 },
 "nbformat": 4,
 "nbformat_minor": 5
}
