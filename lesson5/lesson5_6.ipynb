{
 "cells": [
  {
   "cell_type": "code",
   "execution_count": 1,
   "id": "92411b3d",
   "metadata": {},
   "outputs": [
    {
     "name": "stdout",
     "output_type": "stream",
     "text": [
      "=== Ollama 模型設定完成 ===\n",
      "使用模型: gemma3:270m\n",
      "模型類型: <class 'langchain_ollama.llms.OllamaLLM'>\n"
     ]
    }
   ],
   "source": [
    "from langchain_ollama import OllamaLLM\n",
    "\n",
    "model = OllamaLLM(model=\"gemma3:1b\")\n",
    "print(\"=== Ollama 模型設定完成 ===\")\n",
    "print(\"使用模型: gemma3:270m\")\n",
    "print(f\"模型類型: {type(model)}\")\n"
   ]
  },
  {
   "cell_type": "code",
   "execution_count": 2,
   "id": "ccb26a1e",
   "metadata": {},
   "outputs": [
    {
     "name": "stdout",
     "output_type": "stream",
     "text": [
      "=== 基本 Prompt Template 範例 ===\n",
      "\n",
      "你是一位專業的繁體中文翻譯家，具有豐富的語言學背景。\n",
      "請將使用者提供的以下英文句子翻譯成流暢、自然的繁體中文。\n",
      "\n",
      "英文句子：Despite the initial skepticism from the board, the engineering team persevered with their unconventional approach, which ultimately proved to be the breakthrough the company desperately needed.\n",
      "繁體中文翻譯：\n",
      "\n",
      "\n",
      "==================================================\n",
      "Ollama gemma3:1b模型回應:\n",
      "以下是幾個翻譯選項，各有側重，您可以根據語境選擇最適合的：\n",
      "\n",
      "**選項一 (較正式，強調努力和轉變):**\n",
      "\n",
      "「由於董事會最初對這個方法持懷疑態度，工程團隊仍然堅持著他們不尋常的方案，最終卻為公司帶來了 desperately 需要的突破。」\n",
      "\n",
      "**選項二 (更強調決心和結果):**\n",
      "\n",
      "「董事會最初的疑慮，阻擋了工程團隊的堅持，他們最終的方案竟然成功地成為了公司 desperately 需要的關鍵。」\n",
      "\n",
      "**選項三 (較口語化，更自然):**\n",
      "\n",
      "「董事會最初對這個方法不太認同，但工程團隊還是堅持著他們的獨特想法，結果真的是公司 desperately 需要的關鍵。」\n",
      "\n",
      "**選項四 (稍微更精確，突出「突破」):**\n",
      "\n",
      "「董事會最初對這個方法持不同意見，工程團隊仍堅持著他們的創新思維，最終的突破，就是為公司帶來了 desperately 要求的關鍵。」\n",
      "\n",
      "**選擇建議：**\n",
      "\n",
      "*   **如果需要正式的翻譯，** 推薦選項一。\n",
      "*   **如果想強調決心和結果，** 推薦選項二。\n",
      "*   **如果想更自然、更易讀，** 推薦選項三。\n",
      "*   **如果想強調突破的重要性，** 推薦選項四。\n",
      "\n",
      "我會根據上下文提供更精確的建議。  希望這些選項能幫到您！\n",
      "\n"
     ]
    }
   ],
   "source": [
    "# 1. 基本 Prompt Template 使用\n",
    "from langchain.prompts import PromptTemplate\n",
    "from langchain_ollama import OllamaLLM\n",
    "\n",
    "model = OllamaLLM(model=\"gemma3:1b\")\n",
    "\n",
    "# 建立翻譯模板\n",
    "template_text = \"\"\"\n",
    "你是一位專業的繁體中文翻譯家，具有豐富的語言學背景。\n",
    "請將使用者提供的以下英文句子翻譯成流暢、自然的繁體中文。\n",
    "\n",
    "英文句子：{english_sentence}\n",
    "繁體中文翻譯：\n",
    "\"\"\"\n",
    "\n",
    "# 建立 Prompt Template\n",
    "prompt_template = PromptTemplate(\n",
    "    template=template_text,\n",
    "    input_variables=[\"english_sentence\"]\n",
    "    \n",
    ")\n",
    "\n",
    "# 使用模板\n",
    "formatted_prompt = prompt_template.format(english_sentence=\"Despite the initial skepticism from the board, the engineering team persevered with their unconventional approach, which ultimately proved to be the breakthrough the company desperately needed.\")\n",
    "print(\"=== 基本 Prompt Template 範例 ===\")\n",
    "print(formatted_prompt)\n",
    "print(\"\\n\" + \"=\"*50)\n",
    "print(\"Ollama gemma3:1b模型回應:\")\n",
    "\n",
    "response = model.invoke(formatted_prompt)\n",
    "print(response)"
   ]
  },
  {
   "cell_type": "code",
   "execution_count": 3,
   "id": "669509e5",
   "metadata": {},
   "outputs": [
    {
     "name": "stdout",
     "output_type": "stream",
     "text": [
      "=== 多變數複雜模板範例 ===\n",
      "Human: \n",
      "你是一位專業的繁體中文翻譯家，專精於商業領域。\n",
      "請將以下英文文本翻譯成繁體中文，並確保：\n",
      "1. 保持原文的語氣和風格\n",
      "2. 使用專業術語\n",
      "3. 符合繁體中文的語言習慣\n",
      "\n",
      "英文文本：The quarterly revenue increased by 15% compared to last year.\n",
      "繁體中文翻譯：\n",
      "\n",
      "\n",
      "==================================================\n",
      "Ollama gemma3:1b模型回應:\n",
      "好的，以下為您翻譯成繁體中文，並盡力保留原文的語氣和風格，並符合繁體中文的語言習慣：\n",
      "\n",
      "**翻譯：**\n",
      "\n",
      "**營運數據年度營收增長幅度為去年同期提升了15%。**\n",
      "\n",
      "**更專業的表達，可選加入：**\n",
      "\n",
      "**營運數據顯示，本年度營收增長率 exceeded 15%。** （使用“ exceeded” 增加專業感）\n",
      "\n",
      "**說明：**\n",
      "\n",
      "*   我使用“營運數據”作為更專業的術語，更符合商業環境的語氣。\n",
      "*   “提升”代替了“增加”，更為正式。\n",
      "*   我添加了“ exceeded”來增加專業感，適合非專業讀者。\n",
      "\n",
      "希望這個翻譯符合您的要求！\n"
     ]
    }
   ],
   "source": [
    "from langchain_ollama import OllamaLLM\n",
    "from langchain.prompts import ChatPromptTemplate\n",
    "\n",
    "#model = OllamaLLM(model=\"gpt-oss:20b\")\n",
    "model = OllamaLLM(model=\"gemma3:1b\")\n",
    "\n",
    "# 建立多變數的翻譯模板\n",
    "complex_template = \"\"\"\n",
    "你是一位專業的{target_language}翻譯家，專精於{domain}領域。\n",
    "請將以下{source_language}文本翻譯成{target_language}，並確保：\n",
    "1. 保持原文的語氣和風格\n",
    "2. 使用專業術語\n",
    "3. 符合{target_language}的語言習慣\n",
    "\n",
    "{source_language}文本：{text}\n",
    "{target_language}翻譯：\n",
    "\"\"\"\n",
    "\n",
    "chat_prompt_template = ChatPromptTemplate.from_template(complex_template)\n",
    "\n",
    "formatted_prompt = chat_prompt_template.format(\n",
    "    target_language=\"繁體中文\",\n",
    "    source_language=\"英文\",\n",
    "    domain=\"商業\",\n",
    "    text=\"The quarterly revenue increased by 15% compared to last year.\"\n",
    "    )\n",
    "\n",
    "print(\"=== 多變數複雜模板範例 ===\")\n",
    "print(formatted_prompt)\n",
    "print(\"\\n\" + \"=\"*50)\n",
    "#print(\"Ollama gpt-oss:20b模型回應:\")\n",
    "print(\"Ollama gemma3:1b模型回應:\")\n",
    "\n",
    "response = model.invoke(formatted_prompt)\n",
    "print(response)"
   ]
  }
 ],
 "metadata": {
  "kernelspec": {
   "display_name": ".venv",
   "language": "python",
   "name": "python3"
  },
  "language_info": {
   "codemirror_mode": {
    "name": "ipython",
    "version": 3
   },
   "file_extension": ".py",
   "mimetype": "text/x-python",
   "name": "python",
   "nbconvert_exporter": "python",
   "pygments_lexer": "ipython3",
   "version": "3.10.18"
  }
 },
 "nbformat": 4,
 "nbformat_minor": 5
}
